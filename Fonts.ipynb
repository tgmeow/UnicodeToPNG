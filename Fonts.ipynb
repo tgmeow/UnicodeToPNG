{
 "cells": [
  {
   "cell_type": "code",
   "execution_count": 203,
   "metadata": {},
   "outputs": [],
   "source": [
    "import os\n",
    "import PIL\n",
    "from PIL import Image\n",
    "from PIL import ImageFont\n",
    "from PIL import ImageDraw\n",
    "import numpy as np\n",
    "from fontTools.ttLib import TTFont\n",
    "import urllib.request\n",
    "from urllib.request import HTTPError\n",
    "from os import listdir\n",
    "from os.path import isfile, join"
   ]
  },
  {
   "cell_type": "code",
   "execution_count": 159,
   "metadata": {},
   "outputs": [],
   "source": [
    "FONTS_URL_PREFIX = \"https://unicode-table.com/fonts/u/\" # u3200.woff\n",
    "FONTS_FOLDER_DIR = \"fonts/\"\n",
    "FONTS_FILENAMES = [\"u\" + \"{0:0{1}x}\".format(0x400*mul,4) + \".woff\" for mul in range(193)]\n",
    "FONTS_KNOWN_404 = [\n",
    "  \"u2dc00.woff\",\n",
    "  \"u28000.woff\",\n",
    "  \"u25000.woff\",\n",
    "  \"u2ec00.woff\",\n",
    "  \"u29c00.woff\",\n",
    "  \"u2bc00.woff\",\n",
    "  \"u26000.woff\",\n",
    "  \"u29000.woff\",\n",
    "  \"u25800.woff\",\n",
    "  \"u1e400.woff\",\n",
    "  \"u23c00.woff\",\n",
    "  \"u2f000.woff\",\n",
    "  \"u2b800.woff\",\n",
    "  \"uec00.woff\",\n",
    "  \"u2c800.woff\",\n",
    "  \"u28400.woff\",\n",
    "  \"ue800.woff\",\n",
    "  \"u30000.woff\",\n",
    "  \"u21000.woff\",\n",
    "  \"u2e400.woff\",\n",
    "  \"u23800.woff\",\n",
    "  \"u22c00.woff\",\n",
    "  \"u25400.woff\",\n",
    "  \"u27000.woff\",\n",
    "  \"u2c400.woff\",\n",
    "  \"u21800.woff\",\n",
    "  \"u20800.woff\",\n",
    "  \"u2cc00.woff\",\n",
    "  \"u28c00.woff\",\n",
    "  \"u2f400.woff\",\n",
    "  \"u2a000.woff\",\n",
    "  \"u2d000.woff\",\n",
    "  \"u26400.woff\",\n",
    "  \"u2a800.woff\",\n",
    "  \"u24000.woff\",\n",
    "  \"u21c00.woff\",\n",
    "  \"ue000.woff\",\n",
    "  \"u2d400.woff\",\n",
    "  \"u22000.woff\",\n",
    "  \"u2b400.woff\",\n",
    "  \"u2e800.woff\",\n",
    "  \"u2ac00.woff\",\n",
    "  \"u20400.woff\",\n",
    "  \"u2d800.woff\",\n",
    "  \"u20c00.woff\",\n",
    "  \"u2c000.woff\",\n",
    "  \"u27c00.woff\",\n",
    "  \"u2f800.woff\",\n",
    "  \"u24800.woff\",\n",
    "  \"u22400.woff\",\n",
    "  \"u24c00.woff\",\n",
    "  \"u27400.woff\",\n",
    "  \"u24400.woff\",\n",
    "  \"u26800.woff\",\n",
    "  \"u26c00.woff\",\n",
    "  \"u29800.woff\",\n",
    "  \"u2b000.woff\",\n",
    "  \"ue400.woff\",\n",
    "  \"u25c00.woff\",\n",
    "  \"u20000.woff\",\n",
    "  \"u28800.woff\",\n",
    "  \"u23400.woff\",\n",
    "  \"u22800.woff\",\n",
    "  \"u27800.woff\",\n",
    "  \"u21400.woff\",\n",
    "  \"u2e000.woff\",\n",
    "  \"u23000.woff\",\n",
    "  \"u2a400.woff\",\n",
    "  \"u2fc00.woff\",\n",
    "  \"u29400.woff\"\n",
    "]"
   ]
  },
  {
   "cell_type": "code",
   "execution_count": 160,
   "metadata": {},
   "outputs": [
    {
     "name": "stdout",
     "output_type": "stream",
     "text": [
      "missing 0 fonts\n"
     ]
    }
   ],
   "source": [
    "# Retrieve missing fonts from unicode-table.com\n",
    "existing_f = [f for f in listdir(FONTS_FOLDER_DIR) if isfile(join(FONTS_FOLDER_DIR, f))]\n",
    "remaining = set(FONTS_FILENAMES).difference(set(existing_f))\n",
    "remaining = remaining.difference(set(FONTS_KNOWN_404))\n",
    "print(\"missing \" + str(len(remaining)) + \" fonts\")\n",
    "for filename in remaining:\n",
    "    try:\n",
    "        urllib.request.urlretrieve(FONTS_URL_PREFIX + filename, FONTS_FOLDER_DIR + filename)\n",
    "    except HTTPError:\n",
    "        print(\"\\\"\" + filename + \"\\\",\")"
   ]
  },
  {
   "cell_type": "code",
   "execution_count": 208,
   "metadata": {},
   "outputs": [],
   "source": [
    "# Manually calibrate using chars 791, 64950, 65013!!!\n",
    "def uniToImg(font, num, font_size, W, H):\n",
    "    img = Image.new(\"RGB\", (W,H),(255,255,255))\n",
    "    char = chr(num)\n",
    "    draw = ImageDraw.Draw(img)\n",
    "    w, h = draw.textsize(char, font=font)\n",
    "    draw.text(((W-w)/2,(H-h)/2), char, (0,0,0), font=font)\n",
    "    return img\n",
    "\n",
    "def createFolders(filepath):\n",
    "    if not os.path.exists(os.path.dirname(filepath)):\n",
    "        try:\n",
    "            os.makedirs(os.path.dirname(filepath))\n",
    "        except OSError as exc: # Guard against race condition\n",
    "            if exc.errno != errno.EEXIST:\n",
    "                raise\n",
    "\n",
    "def saveSingleChar(filename, size):\n",
    "    high_res_font_size = size\n",
    "    high_res_W = int(high_res_font_size*2.1)\n",
    "    high_res_H = high_res_W\n",
    "    fps = filename.split(\"_\")\n",
    "    font_name = fps[0] + \".woff\"\n",
    "    code = int(fps[1].split(\".\")[0])\n",
    "    fontpath = join(FONTS_FOLDER_DIR, font_name)\n",
    "    img_font = ImageFont.truetype(fontpath, high_res_font_size)\n",
    "    img = uniToImg(img_font, code, high_res_font_size, high_res_W, high_res_H)\n",
    "    write_path = \"chars_{0}-{1}x{2}/{3}_{4}.png\".format(high_res_font_size,\n",
    "                                                        high_res_W, high_res_H,\n",
    "                                                        font_file.split('.')[0],\n",
    "                                                        str(font_key))\n",
    "    createFolders(write_path)\n",
    "    img.save(write_path)\n",
    "    return img"
   ]
  },
  {
   "cell_type": "code",
   "execution_count": 169,
   "metadata": {},
   "outputs": [],
   "source": [
    "FONT_SIZE = 20\n",
    "IMG_DIM_X = int(FONT_SIZE*2.1)\n",
    "IMG_DIM_Y = IMG_DIM_X\n",
    "# tmp_f = [existing_f[0]]\n",
    "\n",
    "for font_file in existing_f:\n",
    "    fontpath = join(FONTS_FOLDER_DIR, font_file)\n",
    "    ttfont = TTFont(fontpath)\n",
    "    font_keys = list(ttfont['cmap'].tables[0].cmap.keys())\n",
    "    img_font = ImageFont.truetype(fontpath, FONT_SIZE)\n",
    "    imgs = list(map(lambda num: uniToImg(img_font, num, FONT_SIZE, IMG_DIM_X, IMG_DIM_Y), font_keys))\n",
    "    tmpwritefilename = \"chars_{0}-{1}x{2}/a_b.png\".format(FONT_SIZE, IMG_DIM_X, IMG_DIM_Y)\n",
    "    createFolders(tmpwritefilename)\n",
    "    \n",
    "    for img, font_key in zip(imgs, font_keys):\n",
    "        img.save(\"chars_{0}-{1}x{2}/{3}_{4}.png\".format(FONT_SIZE,\n",
    "                                                        IMG_DIM_X,\n",
    "                                                        IMG_DIM_Y,\n",
    "                                                        font_file.split('.')[0],\n",
    "                                                        str(font_key)))"
   ]
  },
  {
   "cell_type": "code",
   "execution_count": 210,
   "metadata": {},
   "outputs": [
    {
     "data": {
      "image/png": "[encoded data removed]",
      "text/plain": [
       "<PIL.Image.Image image mode=RGB size=420x420 at 0x774F4E0>"
      ]
     },
     "execution_count": 210,
     "metadata": {},
     "output_type": "execute_result"
    }
   ],
   "source": [
    "showHighRes(\"u9c00_40929.png\", 200)"
   ]
  },
  {
   "cell_type": "code",
   "execution_count": null,
   "metadata": {},
   "outputs": [],
   "source": []
  }
 ],
 "metadata": {
  "kernelspec": {
   "display_name": "Python 3",
   "language": "python",
   "name": "python3"
  },
  "language_info": {
   "codemirror_mode": {
    "name": "ipython",
    "version": 3
   },
   "file_extension": ".py",
   "mimetype": "text/x-python",
   "name": "python",
   "nbconvert_exporter": "python",
   "pygments_lexer": "ipython3",
   "version": "3.6.8"
  }
 },
 "nbformat": 4,
 "nbformat_minor": 2
}
